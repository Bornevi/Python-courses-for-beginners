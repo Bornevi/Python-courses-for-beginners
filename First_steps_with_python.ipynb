{
 "cells": [
  {
   "cell_type": "markdown",
   "metadata": {},
   "source": [
    "# How to Python?"
   ]
  },
  {
   "cell_type": "markdown",
   "metadata": {},
   "source": [
    "##  A little bit of context \n"
   ]
  },
  {
   "cell_type": "markdown",
   "metadata": {},
   "source": [
    "If you came here, it is certainly because you want to learn a little bit about programming, and more precisely about programming with python. This tutorial aims at teaching you the very basics of programming using python and will give you a few examples to start working with. If you have any demands, or any remarks to improve this tutorial, please do not hesitate to adress them at vincent.borne@protonmail.com."
   ]
  },
  {
   "cell_type": "markdown",
   "metadata": {},
   "source": [
    "### Programming? Python?\n"
   ]
  },
  {
   "cell_type": "markdown",
   "metadata": {},
   "source": [
    "Programming is the action of giving intructions to a machine, hoping in return for this machine to effectuate a certain number of processes and give you back a result. The very first computer programm is known to have been written in 1843 by Ada Lovelace to calculate sequence of Bernoulli numbers on Charles Babbage's Analytical Engine.\n",
    "   "
   ]
  },
  {
   "cell_type": "markdown",
   "metadata": {},
   "source": [
    "Of course to be able to give instructions to a computer, you need to speak the same language. Which means that either you are fluent in binary (the succession of 0 and 1 with which your computer works) or you use a programming language such as python which will translate and talk to the computer for you. There are many other programming languages such as C, C++, Octave, Java etc... each one with their specificities, advantages and flaws."
   ]
  },
  {
   "cell_type": "markdown",
   "metadata": {},
   "source": [
    "Python is depicted as \"an easy to learn, powerful programming language. It has efficient high-level data structures and a simple but effective approach to object-oriented programming. Python's elegant syntax and dynamic typing, together with its interpreted nature, make it an ideal language for scripting and rapid application development in many areas on most platforms.\". Its simplicity and the large choice of librairies and tools that does the work for you for most of the simple actions that you might require, makes it a efficient and reliable tool, for beginners but also for a lot of advanced projects. "
   ]
  },
  {
   "cell_type": "markdown",
   "metadata": {},
   "source": [
    "In case you wonder the name \"Python\" comes from the love of its creator, Guido van Rossum, for the english BBC show \"Monty Python's Flying Circus\". "
   ]
  },
  {
   "cell_type": "markdown",
   "metadata": {},
   "source": [
    "##  Where do I programm? "
   ]
  },
  {
   "cell_type": "markdown",
   "metadata": {},
   "source": [
    "When you are programming you need two different tool: \n",
    "1) the interpreter prompt or console, in which you execute your code. You can also enter directly commands in the prompt , in general short ones. You can type for example, "
   ]
  },
  {
   "cell_type": "code",
   "execution_count": 4,
   "metadata": {},
   "outputs": [
    {
     "name": "stdout",
     "output_type": "stream",
     "text": [
      "Hello world!\n"
     ]
    }
   ],
   "source": [
    "print(\"Hello world!\")"
   ]
  },
  {
   "cell_type": "markdown",
   "metadata": {},
   "source": [
    "Here you just entered a single statement and python returned the result of this statement : the sentence \"Hello world!\"."
   ]
  },
  {
   "cell_type": "markdown",
   "metadata": {},
   "source": [
    "But if you need to build slightly more complex statements, you will want to use an editor to do so, i.e an environment in which you can easily build a complex command, before running it using the prompt. \n",
    "You have a large choice of them, but I would recommand in a first time to use editors attached to a Python prompt like spyder (available when downloading anaconda) pyzo, or  [Pycharm](https://www.jetbrains.com/education/download/#section=pycharm-edu). If you are more used to programming you might want to try [Atom](https://atom.io/), [Vim](https://www.vim.org/) or [Emacs](http://www.gnu.org/software/emacs/). And now you are ready to start! "
   ]
  },
  {
   "cell_type": "markdown",
   "metadata": {},
   "source": [
    "##   How does it works?\n"
   ]
  },
  {
   "cell_type": "markdown",
   "metadata": {},
   "source": [
    "###  Litteral constant and variables"
   ]
  },
  {
   "cell_type": "markdown",
   "metadata": {},
   "source": [
    "To start wrinting a new code you can place yourself in your favorite editor. This is where you will design the statements that you want to make, before executing them."
   ]
  },
  {
   "cell_type": "code",
   "execution_count": 6,
   "metadata": {},
   "outputs": [
    {
     "data": {
      "text/plain": [
       "644190.9397590362"
      ]
     },
     "execution_count": 6,
     "metadata": {},
     "output_type": "execute_result"
    }
   ],
   "source": [
    "985*654+78/(89-6) #I can comment a line of code by adding # afterwards. \n",
    "#This will be ignored by the console. "
   ]
  },
  {
   "cell_type": "markdown",
   "metadata": {},
   "source": [
    "I can also give name and values to some variables to play around. These variable are stored in your computer memory and to access them you need to call them by their name :\n"
   ]
  },
  {
   "cell_type": "code",
   "execution_count": 14,
   "metadata": {},
   "outputs": [
    {
     "name": "stdout",
     "output_type": "stream",
     "text": [
      "F12= -2995914145.996073\n"
     ]
    }
   ],
   "source": [
    "from math import * #I am importing a library that defines pi for me\n",
    "eps0=8.854*10**(-12)\n",
    "q1=-1\n",
    "q2=2\n",
    "r1carré=6 #I have stored all the previous values \n",
    "#and now I can call them to execute my calculus\n",
    "F12=(1/(4*pi*eps0))*(q1*q2/r1carré)\n",
    "print('F12=',F12) #here I use the function print (already defined in python) \n",
    "#to return two different object: a string and a number"
   ]
  },
  {
   "cell_type": "markdown",
   "metadata": {},
   "source": [
    "In the previous code you can notice the line \"from math import \". Those lines at the beginnig of your code allows you to call modules, i.e other pieces of code made by other people or yourself that defines a lot of objects for you. Here the module math defines for the variable \"pi\" for me. The star means that I wanted all of the library to be imported but I could have also used \"from math import pi\" to save some computationnal time since this is the only variable that I am using."
   ]
  },
  {
   "cell_type": "markdown",
   "metadata": {},
   "source": [
    "In the first times you will mainly use litteral constants, i.e strings or numbers that have a litteral value and are constant. Strings are sequences of characters that you express in quotes (\"\" or ''). For the numbers you can distinguish the *integers* numbers (for example 5 is a whole number) and *floating point* numbers (for example 5.12 or pi). Those are different type of objects :\n"
   ]
  },
  {
   "cell_type": "code",
   "execution_count": 1,
   "metadata": {},
   "outputs": [
    {
     "name": "stdout",
     "output_type": "stream",
     "text": [
      "String type is <class 'str'>\n",
      "integer type is <class 'int'>\n",
      "floating number type is <class 'float'>\n"
     ]
    }
   ],
   "source": [
    "string= 'I am a string '\n",
    "integer= 3\n",
    "floating=3.58\n",
    "print('String type is',type(string))\n",
    "print('integer type is',type(integer))\n",
    "print('floating number type is',type(floating))"
   ]
  },
  {
   "cell_type": "markdown",
   "metadata": {},
   "source": [
    "If you want to know a little bit more about the different type of objects and learn how to play around with strings you can find more informations [here](https://python.swaroopch.com/basics.html). "
   ]
  },
  {
   "cell_type": "markdown",
   "metadata": {},
   "source": [
    "###  Loops "
   ]
  },
  {
   "cell_type": "markdown",
   "metadata": {},
   "source": [
    "One of the big advantages of computer programms is that they can effectuate really quickly some repetitive tasks, that would otherwise take us a long time to perform (and also would be really annoying). To do so we use loops, that will run a certain programm again and again until a certain goal is reached. In Python, the indentation defines the limits of the beginning and the end of the loop. Spaces do not count. When something is wrong in your loop there is a high chance that you made a indentation mistakes somewhere! You can find a few examples of loops below :\n",
    "\n"
   ]
  },
  {
   "cell_type": "markdown",
   "metadata": {},
   "source": [
    "- The IF loop "
   ]
  },
  {
   "cell_type": "code",
   "execution_count": 4,
   "metadata": {},
   "outputs": [
    {
     "name": "stdout",
     "output_type": "stream",
     "text": [
      "Enter True or False : False\n",
      "Well this is false\n",
      "Done\n"
     ]
    }
   ],
   "source": [
    "Boolvar =  str(input('Enter True or False : '))\n",
    "if Boolvar == 'True' :#here start my loop based on a condition \n",
    "    #that my variable must fullfill\n",
    "    print('Nice this is true') # I indented the result \n",
    "    #that should be printed if my condition is met\n",
    "elif Boolvar == 'False':\n",
    "    print(\"Well this is false\")\n",
    "else:\n",
    "    print('you did not entered a the wanted answer')\n",
    "\n",
    "print('Done')\n",
    "# This last statement is always executed,\n",
    "# after the if statement is executed."
   ]
  },
  {
   "cell_type": "markdown",
   "metadata": {},
   "source": [
    "- The WHILE loop\n"
   ]
  },
  {
   "cell_type": "code",
   "execution_count": 13,
   "metadata": {},
   "outputs": [
    {
     "name": "stdout",
     "output_type": "stream",
     "text": [
      "Enter an integer : 25\n",
      "No, it is a little lower than that.\n",
      "Enter an integer : 20\n",
      "No, it is a little higher than that.\n",
      "Enter an integer : 23\n",
      "Congratulations, you guessed it.\n",
      "The while loop is over.\n",
      "Done\n"
     ]
    }
   ],
   "source": [
    "number = 23\n",
    "running = True\n",
    "\n",
    "while running:\n",
    "    guess = int(input('Enter an integer : '))\n",
    "\n",
    "    if guess == number:\n",
    "        print('Congratulations, you guessed it.')\n",
    "        # this causes the while loop to stop\n",
    "        running = False\n",
    "    elif guess < number:\n",
    "        print('No, it is a little higher than that.')\n",
    "    else:\n",
    "        print('No, it is a little lower than that.')\n",
    "else:\n",
    "    print('The while loop is over.')\n",
    "    # Do anything else you want to do here\n",
    "\n",
    "print('Done')\n"
   ]
  },
  {
   "cell_type": "markdown",
   "metadata": {},
   "source": [
    "- The FOR loop "
   ]
  },
  {
   "cell_type": "code",
   "execution_count": 17,
   "metadata": {},
   "outputs": [
    {
     "name": "stdout",
     "output_type": "stream",
     "text": [
      "1\n",
      "2\n",
      "6\n",
      "24\n",
      "120\n",
      "720\n",
      "5040\n",
      "40320\n",
      "362880\n",
      "Done\n"
     ]
    }
   ],
   "source": [
    "from math import factorial\n",
    "for i in range (1, 10): # is taking values from 1 to 9 \n",
    "    x=factorial(i)\n",
    "    print(x)\n",
    "print('Done')"
   ]
  },
  {
   "cell_type": "markdown",
   "metadata": {},
   "source": [
    "- BREAK and CONTINUE loops"
   ]
  },
  {
   "cell_type": "markdown",
   "metadata": {},
   "source": [
    "This two statement are a bit specific since they are made to interrupt the \"normal\" behavior of the loop. The break statement is used to break out of a loop statement i.e. stop the execution of a looping statement, even if the loop condition has not become False or the sequence of items has not been completely iterated over. The continue statement is used to tell Python to skip the rest of the statements in the current loop block and to continue to the next iteration of the loop. The next examples have been taken from this [tutorial](https://python.swaroopch.com/control_flow.html) that I once recommand for more detailed informations."
   ]
  },
  {
   "cell_type": "code",
   "execution_count": 3,
   "metadata": {},
   "outputs": [
    {
     "name": "stdout",
     "output_type": "stream",
     "text": [
      "Enter something : skipadabadadada\n",
      "Length of the string is 15\n",
      "Enter something : noice\n",
      "Length of the string is 5\n",
      "Enter something : one last for the road\n",
      "Length of the string is 21\n",
      "Enter something : quit\n",
      "Done\n"
     ]
    }
   ],
   "source": [
    "while True:\n",
    "    s = input('Enter something : ')\n",
    "    if s == 'quit':\n",
    "        break\n",
    "    print('Length of the string is', len(s))\n",
    "print('Done')\n"
   ]
  },
  {
   "cell_type": "code",
   "execution_count": 2,
   "metadata": {},
   "outputs": [
    {
     "name": "stdout",
     "output_type": "stream",
     "text": [
      "Enter something : no\n",
      "Too small\n",
      "Enter something : come on\n",
      "Input is of sufficient length\n",
      "Enter something : thanks!\n",
      "Input is of sufficient length\n",
      "Enter something : quit\n"
     ]
    }
   ],
   "source": [
    "while True:\n",
    "    s = input('Enter something : ')\n",
    "    if s == 'quit':\n",
    "        break\n",
    "    if len(s) < 3:\n",
    "        print('Too small')\n",
    "        continue\n",
    "    print('Input is of sufficient length')"
   ]
  },
  {
   "cell_type": "markdown",
   "metadata": {},
   "source": [
    "###  Functions "
   ]
  },
  {
   "cell_type": "markdown",
   "metadata": {},
   "source": [
    "Another really usefull tool that one can use with python are functions. Like for mathematical functions those are littles pieces of code inside your code that you feed with variables and that will return some wanted results. It is particularly interesting to simplify and clear the code whenever you are using multiples or complex functions at the same time. "
   ]
  },
  {
   "cell_type": "code",
   "execution_count": 6,
   "metadata": {},
   "outputs": [
    {
     "name": "stdout",
     "output_type": "stream",
     "text": [
      "-499319024.3326788\n"
     ]
    }
   ],
   "source": [
    "from math import pi\n",
    "eps0=8.854*10**(-12)\n",
    "q1=-1\n",
    "q2=2\n",
    "r1=6\n",
    "\n",
    "def F12(eps,q1,q2,r): #this is where we define a function of \n",
    "    #different parameters (q, r, epsilon)\n",
    "    F12=(1/(4*pi*eps))*(q1*q2/r**2)\n",
    "    return F12\n",
    "\n",
    "ans = F12(eps0,q1,q2,r1)\n",
    "print(ans)"
   ]
  },
  {
   "cell_type": "code",
   "execution_count": 7,
   "metadata": {},
   "outputs": [
    {
     "name": "stdout",
     "output_type": "stream",
     "text": [
      "[[-0.04266925 -0.02296911  0.02296911  0.04266925]\n",
      " [-0.11334412 -0.11525918  0.11525918  0.11334412]\n",
      " [-0.23993366 -1.60996894  1.60996894  0.23993366]\n",
      " [-0.17888544 -0.38402321  0.38402321  0.17888544]]\n",
      "[[-0.06400387 -0.10336098 -0.10336098 -0.06400387]\n",
      " [-0.09445344 -0.28814794 -0.28814794 -0.09445344]\n",
      " [-0.03998894 -0.80498447 -0.80498447 -0.03998894]\n",
      " [ 0.08944272  0.57603482  0.57603482  0.08944272]]\n"
     ]
    }
   ],
   "source": [
    "import numpy as np\n",
    "nx, ny = 4, 4\n",
    "def E(q, r0, x, y): # a more complex example\n",
    "    \"\"\"Return the electric field vector E=(Ex,Ey) due to charge q at r0.\"\"\"\n",
    "    den = np.sqrt((x-r0[0])**2 + (y-r0[1])**2)**3\n",
    "    Ex = q * (x - r0[0]) / den\n",
    "    Ey = q * (y - r0[1]) / den\n",
    "    return Ex, Ey #this is what the function returns afterwards\n",
    "x = np.linspace(-2, 2, nx)\n",
    "y = np.linspace(-2, 2, ny)\n",
    "X, Y = np.meshgrid(x, y)\n",
    "charge_positions = [[0,1]]\n",
    "charges          = [1]\n",
    "ex,ey = E(charges[0],charge_positions[0],X,Y)\n",
    "print(ex)\n",
    "print(ey)"
   ]
  },
  {
   "cell_type": "markdown",
   "metadata": {},
   "source": [
    "Once again if you wish to go further go [here](https://python.swaroopch.com/functions.html)."
   ]
  },
  {
   "cell_type": "markdown",
   "metadata": {},
   "source": [
    "###  lists"
   ]
  },
  {
   "cell_type": "markdown",
   "metadata": {},
   "source": [
    "A list is an object that contains a certain numbers of items, like a shopping list or a matrix. You can create them easily:\n"
   ]
  },
  {
   "cell_type": "code",
   "execution_count": 8,
   "metadata": {},
   "outputs": [
    {
     "name": "stdout",
     "output_type": "stream",
     "text": [
      "['tomatoes', 'salt', 'zucchinis', 'tofu', 'pastas', 'toilet paper']\n",
      "[[1, 4, 5], [-5, 8, 9]]\n"
     ]
    }
   ],
   "source": [
    "list1=['tomatoes','salt','zucchinis','tofu','pastas','toilet paper']\n",
    "print(list1)\n",
    "list2= [[1, 4, 5], [-5, 8, 9]] #a list of list (a matrix)\n",
    "print(list2)"
   ]
  },
  {
   "cell_type": "markdown",
   "metadata": {},
   "source": [
    "You can then navigate inside those lists:\n"
   ]
  },
  {
   "cell_type": "code",
   "execution_count": 9,
   "metadata": {},
   "outputs": [
    {
     "name": "stdout",
     "output_type": "stream",
     "text": [
      "leeks\n",
      "tofu\n",
      "toilet paper\n",
      "[-5, 8, 9]\n",
      "5\n"
     ]
    }
   ],
   "source": [
    "list1=['leeks','salt','zucchinis','tofu','pastas','toilet paper']\n",
    "list2= [[1, 4, 5], [-5, 8, 9]]\n",
    "print(list1[0])\n",
    "print(list1[3])\n",
    "print(list1[-1])\n",
    "print(list2[1])\n",
    "print(list2[0][2])\n"
   ]
  },
  {
   "cell_type": "markdown",
   "metadata": {},
   "source": [
    "You will notice that the numbering of the list starts at zero and that you can go throught the list items backwards by using negatives. "
   ]
  },
  {
   "cell_type": "markdown",
   "metadata": {},
   "source": [
    "This is it for the moment, we might go over some more complex stuff in the coming weeks, and I might modify it in a near future depending of the feedback that I receive. If you want to improve or add stuff to the present work please feel free to do so."
   ]
  },
  {
   "cell_type": "code",
   "execution_count": 10,
   "metadata": {},
   "outputs": [
    {
     "name": "stdout",
     "output_type": "stream",
     "text": [
      "that s all folks!\n"
     ]
    }
   ],
   "source": [
    "print('that s all folks!')"
   ]
  }
 ],
 "metadata": {
  "kernelspec": {
   "display_name": "Python 3",
   "language": "python",
   "name": "python3"
  },
  "language_info": {
   "codemirror_mode": {
    "name": "ipython",
    "version": 3
   },
   "file_extension": ".py",
   "mimetype": "text/x-python",
   "name": "python",
   "nbconvert_exporter": "python",
   "pygments_lexer": "ipython3",
   "version": "3.6.9"
  }
 },
 "nbformat": 4,
 "nbformat_minor": 2
}
